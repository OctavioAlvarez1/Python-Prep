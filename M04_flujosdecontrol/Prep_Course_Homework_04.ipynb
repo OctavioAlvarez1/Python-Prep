{
 "cells": [
  {
   "attachments": {},
   "cell_type": "markdown",
   "metadata": {},
   "source": [
    "## Flujos de Control"
   ]
  },
  {
   "attachments": {},
   "cell_type": "markdown",
   "metadata": {},
   "source": [
    "1) Crear una variable que contenga un elemento del conjunto de números enteros y luego imprimir por pantalla si es mayor o menor a cero"
   ]
  },
  {
   "cell_type": "code",
   "execution_count": 2,
   "metadata": {},
   "outputs": [
    {
     "name": "stdout",
     "output_type": "stream",
     "text": [
      "5 es mayor a cero\n"
     ]
    }
   ],
   "source": [
    "num1 = 5\n",
    "if num1>0:\n",
    "    print( str(num1) + \" es mayor a cero\")\n",
    "else:\n",
    "    print( str(num1) + \" es menor a cero\")"
   ]
  },
  {
   "attachments": {},
   "cell_type": "markdown",
   "metadata": {},
   "source": [
    "2) Crear dos variables y un condicional que informe si son del mismo tipo de dato"
   ]
  },
  {
   "cell_type": "code",
   "execution_count": 3,
   "metadata": {},
   "outputs": [
    {
     "name": "stdout",
     "output_type": "stream",
     "text": [
      "Las variables son del mismo tipo de dato\n"
     ]
    }
   ],
   "source": [
    "num1 = 5\n",
    "num2 = 10\n",
    "\n",
    "if type(num1) == type(num2):\n",
    "    print(\"Las variables son del mismo tipo de dato\")\n",
    "else:\n",
    "    print(\"Las variables son de un tipo de dato diferente\")"
   ]
  },
  {
   "attachments": {},
   "cell_type": "markdown",
   "metadata": {},
   "source": [
    "3) Para los valores enteros del 1 al 20, imprimir por pantalla si es par o impar"
   ]
  },
  {
   "cell_type": "code",
   "execution_count": 5,
   "metadata": {},
   "outputs": [
    {
     "name": "stdout",
     "output_type": "stream",
     "text": [
      "1 es impar\n",
      "2 es par\n",
      "3 es impar\n",
      "4 es par\n",
      "5 es impar\n",
      "6 es par\n",
      "7 es impar\n",
      "8 es par\n",
      "9 es impar\n",
      "10 es par\n",
      "11 es impar\n",
      "12 es par\n",
      "13 es impar\n",
      "14 es par\n",
      "15 es impar\n",
      "16 es par\n",
      "17 es impar\n",
      "18 es par\n",
      "19 es impar\n"
     ]
    }
   ],
   "source": [
    "for num in range(1,20):\n",
    "    if(num%2==0):\n",
    "        print(str(num) + \" es par\")\n",
    "    else:\n",
    "        print(str(num) + \" es impar\")\n"
   ]
  },
  {
   "attachments": {},
   "cell_type": "markdown",
   "metadata": {},
   "source": [
    "4) En un ciclo for mostrar para los valores entre 0 y 5 el resultado de elevarlo a la potencia igual a 3"
   ]
  },
  {
   "cell_type": "code",
   "execution_count": 6,
   "metadata": {},
   "outputs": [
    {
     "name": "stdout",
     "output_type": "stream",
     "text": [
      "0\n",
      "1\n",
      "8\n",
      "27\n",
      "64\n"
     ]
    }
   ],
   "source": [
    "for num in range(0,5):\n",
    "    print(num**3)"
   ]
  },
  {
   "attachments": {},
   "cell_type": "markdown",
   "metadata": {},
   "source": [
    "5) Crear una variable que contenga un número entero y realizar un ciclo for la misma cantidad de ciclos"
   ]
  },
  {
   "cell_type": "code",
   "execution_count": 12,
   "metadata": {},
   "outputs": [
    {
     "name": "stdout",
     "output_type": "stream",
     "text": [
      "Ciclo repitiendose\n",
      "Ciclo repitiendose\n",
      "Ciclo repitiendose\n",
      "Ciclo repitiendose\n",
      "Ciclo repitiendose\n"
     ]
    }
   ],
   "source": [
    "num = 5\n",
    "for n in range(num):\n",
    "    print(\"Ciclo repitiendose\")"
   ]
  },
  {
   "attachments": {},
   "cell_type": "markdown",
   "metadata": {},
   "source": [
    "6) Utilizar un ciclo while para realizar el factorial de un número guardado en una variable, sólo si la variable contiene un número entero mayor a 0"
   ]
  },
  {
   "cell_type": "code",
   "execution_count": 13,
   "metadata": {},
   "outputs": [
    {
     "name": "stdout",
     "output_type": "stream",
     "text": [
      "El factorial de 5 es 120\n"
     ]
    }
   ],
   "source": [
    "num = 5\n",
    "factorial = 1\n",
    "\n",
    "while num > 0:\n",
    "    factorial*=num\n",
    "    num -= 1\n",
    "\n",
    "print(\"El factorial de 5 es \" + str(factorial))"
   ]
  },
  {
   "attachments": {},
   "cell_type": "markdown",
   "metadata": {},
   "source": [
    "7) Crear un ciclo for dentro de un ciclo while"
   ]
  },
  {
   "cell_type": "code",
   "execution_count": 16,
   "metadata": {},
   "outputs": [
    {
     "name": "stdout",
     "output_type": "stream",
     "text": [
      "Probando el bucle for\n",
      "Probando el bucle for\n",
      "Probando el bucle for\n",
      "Probando el bucle for\n",
      "Probando el bucle for\n",
      "Probando el bucle for\n",
      "Probando el bucle for\n",
      "Probando el bucle for\n",
      "Probando el bucle for\n",
      "Probando el bucle for\n",
      "Probando el bucle for\n",
      "Probando el bucle for\n",
      "Probando el bucle for\n",
      "Probando el bucle for\n",
      "Probando el bucle for\n"
     ]
    }
   ],
   "source": [
    "num = 5\n",
    "\n",
    "while num > 0:\n",
    "    for n in range(num):\n",
    "        print(\"Probando el bucle for\")\n",
    "    num-=1\n"
   ]
  },
  {
   "attachments": {},
   "cell_type": "markdown",
   "metadata": {},
   "source": [
    "8) Crear un ciclo while dentro de un ciclo for"
   ]
  },
  {
   "cell_type": "code",
   "execution_count": 18,
   "metadata": {},
   "outputs": [
    {
     "name": "stdout",
     "output_type": "stream",
     "text": [
      "Fin del bucle for\n",
      "Fin del bucle for\n",
      "Fin del bucle for\n"
     ]
    }
   ],
   "source": [
    "for n in range(3):  \n",
    "    num = 5\n",
    "    while num > 0:\n",
    "        num -= 1\n",
    "    \n",
    "    print(\"Fin del bucle for\")"
   ]
  },
  {
   "attachments": {},
   "cell_type": "markdown",
   "metadata": {},
   "source": [
    "9) Imprimir los números primos existentes entre 0 y 30"
   ]
  },
  {
   "cell_type": "code",
   "execution_count": 19,
   "metadata": {},
   "outputs": [
    {
     "name": "stdout",
     "output_type": "stream",
     "text": [
      "2\n",
      "3\n",
      "5\n",
      "7\n",
      "11\n",
      "13\n",
      "17\n",
      "19\n",
      "23\n",
      "29\n"
     ]
    }
   ],
   "source": [
    "for num in range(2, 31):\n",
    "    es_primo = True\n",
    "    for i in range(2, int(num**0.5) + 1):\n",
    "        if num % i == 0:\n",
    "            es_primo = False\n",
    "            break\n",
    "    if es_primo:\n",
    "        print(num)\n",
    "    "
   ]
  },
  {
   "attachments": {},
   "cell_type": "markdown",
   "metadata": {},
   "source": [
    "10) ¿Se puede mejorar el proceso del punto 9? Utilizar las sentencias break y/ó continue para tal fin"
   ]
  },
  {
   "cell_type": "code",
   "execution_count": null,
   "metadata": {},
   "outputs": [],
   "source": [
    "#Ya puse break, me parece que está bien"
   ]
  },
  {
   "attachments": {},
   "cell_type": "markdown",
   "metadata": {},
   "source": [
    "11) En los puntos 9 y 10, se diseño un código que encuentra números primos y además se lo optimizó. ¿Es posible saber en qué medida se optimizó?"
   ]
  },
  {
   "cell_type": "code",
   "execution_count": null,
   "metadata": {},
   "outputs": [],
   "source": [
    "#Honestamente no lo sé"
   ]
  },
  {
   "attachments": {},
   "cell_type": "markdown",
   "metadata": {},
   "source": [
    "12) Aplicando continue, armar un ciclo while que solo imprima los valores divisibles por 12, dentro del rango de números de 100 a 300"
   ]
  },
  {
   "cell_type": "code",
   "execution_count": 20,
   "metadata": {},
   "outputs": [
    {
     "name": "stdout",
     "output_type": "stream",
     "text": [
      "108\n",
      "120\n",
      "132\n",
      "144\n",
      "156\n",
      "168\n",
      "180\n",
      "192\n",
      "204\n",
      "216\n",
      "228\n",
      "240\n",
      "252\n",
      "264\n",
      "276\n",
      "288\n",
      "300\n"
     ]
    }
   ],
   "source": [
    "num = 100\n",
    "\n",
    "while num <= 300:\n",
    "    if num % 12 != 0:\n",
    "        num += 1\n",
    "        continue\n",
    "    print(num)\n",
    "    num += 1"
   ]
  },
  {
   "attachments": {},
   "cell_type": "markdown",
   "metadata": {},
   "source": [
    "13) Utilizar la función **input()** que permite hacer ingresos por teclado, para encontrar números primos y dar la opción al usario de buscar el siguiente"
   ]
  },
  {
   "cell_type": "code",
   "execution_count": 23,
   "metadata": {},
   "outputs": [
    {
     "name": "stdout",
     "output_type": "stream",
     "text": [
      "3 es un número primo.\n",
      "El siguiente número primo es: 5\n"
     ]
    }
   ],
   "source": [
    "numero = int(input(\"Por favor, ingrese un numero\"))\n",
    "es_primo = True\n",
    "\n",
    "for i in range(2, int(numero**0.5) + 1):\n",
    "    if numero % i == 0:\n",
    "        es_primo = False\n",
    "        break\n",
    "\n",
    "if es_primo:\n",
    "    print(f\"{numero} es un número primo.\")\n",
    "\n",
    "siguiente_primo = numero + 1\n",
    "while True:\n",
    "    es_primo_actual = True \n",
    "    for i in range(2, int(siguiente_primo**0.5) + 1):\n",
    "        if siguiente_primo % i == 0:\n",
    "            es_primo_actual = False\n",
    "            break\n",
    "\n",
    "    if es_primo_actual:\n",
    "        print(f\"El siguiente número primo es: {siguiente_primo}\")\n",
    "        break\n",
    "\n",
    "    siguiente_primo += 1"
   ]
  },
  {
   "attachments": {},
   "cell_type": "markdown",
   "metadata": {},
   "source": [
    "14) Crear un ciclo while que encuentre dentro del rango de 100 a 300 el primer número divisible por 3 y además múltiplo de 6"
   ]
  },
  {
   "cell_type": "code",
   "execution_count": 24,
   "metadata": {},
   "outputs": [
    {
     "name": "stdout",
     "output_type": "stream",
     "text": [
      "El primer número divisible por 3 y múltiplo de 6 es: 102\n"
     ]
    }
   ],
   "source": [
    "numero = 100\n",
    "\n",
    "while numero <= 300:\n",
    "    if numero % 3 == 0 and numero % 6 == 0:\n",
    "        print(f\"El primer número divisible por 3 y múltiplo de 6 es: {numero}\")\n",
    "        break\n",
    "    numero += 1\n"
   ]
  }
 ],
 "metadata": {
  "interpreter": {
   "hash": "c85384e4cb51c8b72350f3a8712cc8351fdc3955e32a27f9b60c6242ab125f01"
  },
  "kernelspec": {
   "display_name": "Python 3 (ipykernel)",
   "language": "python",
   "name": "python3"
  },
  "language_info": {
   "codemirror_mode": {
    "name": "ipython",
    "version": 3
   },
   "file_extension": ".py",
   "mimetype": "text/x-python",
   "name": "python",
   "nbconvert_exporter": "python",
   "pygments_lexer": "ipython3",
   "version": "3.10.7"
  }
 },
 "nbformat": 4,
 "nbformat_minor": 4
}
