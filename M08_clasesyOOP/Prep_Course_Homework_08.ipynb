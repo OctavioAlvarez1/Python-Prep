{
 "cells": [
  {
   "attachments": {},
   "cell_type": "markdown",
   "metadata": {},
   "source": [
    "## Clases y Programación Orientada a Objetos"
   ]
  },
  {
   "attachments": {},
   "cell_type": "markdown",
   "metadata": {},
   "source": [
    "1) Crear la clase vehículo que contenga los atributos:<br>\n",
    "Color<br>\n",
    "Si es moto, auto, camioneta ó camión<br>\n",
    "Cilindrada del motor"
   ]
  },
  {
   "cell_type": "code",
   "execution_count": 2,
   "metadata": {},
   "outputs": [
    {
     "name": "stdout",
     "output_type": "stream",
     "text": [
      "El vehiculo es de color Rojo, es un Moto, de cilindrada 2000 \n"
     ]
    }
   ],
   "source": [
    "class Vehiculo:\n",
    "    def __init__(self,color,tipo_vehiculo, cilindrada):\n",
    "        self.color = color\n",
    "        self.tipo_vehiculo = tipo_vehiculo\n",
    "        self.cilindrada = cilindrada\n",
    "    \n",
    "    def datos_vehiculo(self):\n",
    "        return f\"El vehiculo es de color {self.color}, es un {self.tipo_vehiculo}, de cilindrada {self.cilindrada} \"\n",
    "\n",
    "vehiculo1 = Vehiculo(\"Rojo\", \"Moto\", 2000)\n",
    "print(vehiculo1.datos_vehiculo())\n"
   ]
  },
  {
   "attachments": {},
   "cell_type": "markdown",
   "metadata": {},
   "source": [
    "2) A la clase Vehiculo creada en el punto 1, agregar los siguientes métodos:<br>\n",
    "Acelerar<br>\n",
    "Frenar<br>\n",
    "Doblar<br>"
   ]
  },
  {
   "cell_type": "code",
   "execution_count": 5,
   "metadata": {},
   "outputs": [
    {
     "name": "stdout",
     "output_type": "stream",
     "text": [
      "El vehiculo es de color Verde, es un Camion, de cilindrada 5000 \n",
      "Estoy acelerando\n",
      "None\n"
     ]
    }
   ],
   "source": [
    "class Vehiculo:\n",
    "    def __init__(self,color,tipo_vehiculo, cilindrada):\n",
    "        self.color = color\n",
    "        self.tipo_vehiculo = tipo_vehiculo\n",
    "        self.cilindrada = cilindrada\n",
    "    \n",
    "    def acelerar(self):\n",
    "        print(\"Estoy acelerando\")\n",
    "    \n",
    "    def frenar(self):\n",
    "        print(\"Estoy frenando\")\n",
    "    \n",
    "    def doblar(self):\n",
    "        print(\"Estoy doblando\")\n",
    "\n",
    "    def datos_vehiculo(self):\n",
    "        return f\"El vehiculo es de color {self.color}, es un {self.tipo_vehiculo}, de cilindrada {self.cilindrada} \"\n",
    "\n",
    "vehiculo1 = Vehiculo(\"Verde\", \"Camion\", 5000)\n",
    "print(vehiculo1.datos_vehiculo())\n",
    "print(vehiculo1.acelerar())"
   ]
  },
  {
   "attachments": {},
   "cell_type": "markdown",
   "metadata": {},
   "source": [
    "3) Instanciar 3 objetos de la clase vehículo y ejecutar sus métodos, probar luego el resultado"
   ]
  },
  {
   "cell_type": "code",
   "execution_count": 7,
   "metadata": {},
   "outputs": [
    {
     "name": "stdout",
     "output_type": "stream",
     "text": [
      "El vehiculo es de color Verde, es un Camion, de cilindrada 5000 \n",
      "Estoy acelerando\n",
      "Estoy doblando\n",
      "Estoy frenando\n",
      "El vehiculo es de color Rosa, es un Moto, de cilindrada 2000 \n",
      "Estoy acelerando\n",
      "Estoy doblando\n",
      "Estoy frenando\n",
      "El vehiculo es de color Amarilla, es un Camioneta, de cilindrada 3000 \n",
      "Estoy acelerando\n",
      "Estoy doblando\n",
      "Estoy frenando\n"
     ]
    }
   ],
   "source": [
    "vehiculo2 = Vehiculo(\"Verde\", \"Camion\", 5000)\n",
    "print(vehiculo2.datos_vehiculo())\n",
    "vehiculo2.acelerar()\n",
    "vehiculo2.doblar()\n",
    "vehiculo2.frenar()\n",
    "\n",
    "vehiculo3 = Vehiculo(\"Rosa\", \"Moto\", 2000)\n",
    "print(vehiculo3.datos_vehiculo())\n",
    "vehiculo3.acelerar()\n",
    "vehiculo3.doblar()\n",
    "vehiculo3.frenar()\n",
    "\n",
    "vehiculo4 = Vehiculo(\"Amarilla\", \"Camioneta\", 3000)\n",
    "print(vehiculo4.datos_vehiculo())\n",
    "vehiculo4.acelerar()\n",
    "vehiculo4.doblar()\n",
    "vehiculo4.frenar()"
   ]
  },
  {
   "attachments": {},
   "cell_type": "markdown",
   "metadata": {},
   "source": [
    "4) Agregar a la clase Vehiculo, un método que muestre su estado, es decir, a que velocidad se encuentra y su dirección. Y otro método que muestre color, tipo y cilindrada"
   ]
  },
  {
   "cell_type": "code",
   "execution_count": 8,
   "metadata": {},
   "outputs": [
    {
     "name": "stdout",
     "output_type": "stream",
     "text": [
      "Estoy yendo a 100 km por hora, en direccion Sur\n",
      "None\n",
      "El vehiculo es de color Verde, es un Camioneta, de cilindrada 2000 \n"
     ]
    }
   ],
   "source": [
    "class Vehiculo:\n",
    "    def __init__(self,color,tipo_vehiculo, cilindrada,velocidad,direccion):\n",
    "        self.color = color\n",
    "        self.tipo_vehiculo = tipo_vehiculo\n",
    "        self.cilindrada = cilindrada\n",
    "        self.velocidad = velocidad\n",
    "        self.direccion = direccion\n",
    "    \n",
    "    def acelerar(self):\n",
    "        print(\"Estoy acelerando\")\n",
    "    \n",
    "    def frenar(self):\n",
    "        print(\"Estoy frenando\")\n",
    "    \n",
    "    def doblar(self):\n",
    "        print(\"Estoy doblando\")\n",
    "\n",
    "    def estado(self):\n",
    "        print(f\"Estoy yendo a {self.velocidad} km por hora, en direccion {self.direccion}\")\n",
    "    \n",
    "    def datos_vehiculo(self):\n",
    "        print(f\"Soy un vehiculo tipo {self.tipo_vehiculo} de color {self.color} y cilindrada {self.cilindrada}\")\n",
    "\n",
    "    def datos_vehiculo(self):\n",
    "        return f\"El vehiculo es de color {self.color}, es un {self.tipo_vehiculo}, de cilindrada {self.cilindrada} \"\n",
    "\n",
    "v1 = Vehiculo(\"Verde\",\"Camioneta\",2000,100, \"Sur\")\n",
    "print(v1.estado())\n",
    "print(v1.datos_vehiculo())"
   ]
  },
  {
   "attachments": {},
   "cell_type": "markdown",
   "metadata": {},
   "source": [
    "5) Crear una clase que permita utilizar las funciones creadas en la práctica del módulo 7<br>\n",
    "Verificar Primo<br>\n",
    "Valor modal<br>\n",
    "Conversión grados<br>\n",
    "Factorial<br>"
   ]
  },
  {
   "cell_type": "code",
   "execution_count": 11,
   "metadata": {},
   "outputs": [
    {
     "ename": "TypeError",
     "evalue": "FuncionesEspeciales.es_primo() takes 1 positional argument but 2 were given",
     "output_type": "error",
     "traceback": [
      "\u001b[1;31m---------------------------------------------------------------------------\u001b[0m",
      "\u001b[1;31mTypeError\u001b[0m                                 Traceback (most recent call last)",
      "Cell \u001b[1;32mIn[11], line 46\u001b[0m\n\u001b[0;32m     43\u001b[0m funciones_especiales \u001b[38;5;241m=\u001b[39m FuncionesEspeciales()\n\u001b[0;32m     45\u001b[0m \u001b[38;5;66;03m# Verificar primo\u001b[39;00m\n\u001b[1;32m---> 46\u001b[0m \u001b[38;5;28mprint\u001b[39m(\u001b[43mfunciones_especiales\u001b[49m\u001b[38;5;241;43m.\u001b[39;49m\u001b[43mes_primo\u001b[49m\u001b[43m(\u001b[49m\u001b[38;5;241;43m7\u001b[39;49m\u001b[43m)\u001b[49m)\n\u001b[0;32m     48\u001b[0m \u001b[38;5;66;03m# Valor modal\u001b[39;00m\n\u001b[0;32m     49\u001b[0m lista_valores \u001b[38;5;241m=\u001b[39m [\u001b[38;5;241m1\u001b[39m, \u001b[38;5;241m2\u001b[39m, \u001b[38;5;241m2\u001b[39m, \u001b[38;5;241m3\u001b[39m, \u001b[38;5;241m4\u001b[39m, \u001b[38;5;241m5\u001b[39m, \u001b[38;5;241m5\u001b[39m, \u001b[38;5;241m5\u001b[39m]\n",
      "\u001b[1;31mTypeError\u001b[0m: FuncionesEspeciales.es_primo() takes 1 positional argument but 2 were given"
     ]
    }
   ],
   "source": [
    "class FuncionesEspeciales:\n",
    "    @staticmethod\n",
    "    def es_primo(numero):\n",
    "        if numero < 2:\n",
    "            return False\n",
    "        for i in range(2, int(numero**0.5) + 1):\n",
    "            if numero % i == 0:\n",
    "                return False\n",
    "        return True\n",
    "\n",
    "    @staticmethod\n",
    "    def valor_modal(lista):\n",
    "        frecuencias = {}\n",
    "        for elemento in lista:\n",
    "            frecuencias[elemento] = frecuencias.get(elemento, 0) + 1\n",
    "\n",
    "        modos = [key for key, value in frecuencias.items() if value == max(frecuencias.values())]\n",
    "        return modos\n",
    "\n",
    "    @staticmethod\n",
    "    def convertir_grados(valor, medida_origen, medida_destino):\n",
    "        if medida_origen == \"C\" and medida_destino == \"F\":\n",
    "            return valor * 9/5 + 32\n",
    "        elif medida_origen == \"C\" and medida_destino == \"K\":\n",
    "            return valor + 273.15\n",
    "        elif medida_origen == \"F\" and medida_destino == \"C\":\n",
    "            return (valor - 32) * 5/9\n",
    "        elif medida_origen == \"F\" and medida_destino == \"K\":\n",
    "            return (valor + 459.67) * 5/9\n",
    "        elif medida_origen == \"K\" and medida_destino == \"C\":\n",
    "            return valor - 273.15\n",
    "        elif medida_origen == \"K\" and medida_destino == \"F\":\n",
    "            return valor * 9/5 - 459.67\n",
    "        else:\n",
    "            return valor \n",
    "\n",
    "    @staticmethod\n",
    "    def calcular_factorial(num):\n",
    "        if isinstance(num, int) and num >= 0:\n",
    "            resultado = 1\n",
    "            for i in range(1, num + 1):\n",
    "                resultado *= i\n",
    "            return resultado\n",
    "        else:\n",
    "            return None \n",
    "\n",
    "# Crear una instancia de la clase FuncionesEspeciales\n",
    "funciones_especiales = FuncionesEspeciales()\n",
    "\n",
    "# Verificar primo\n",
    "print(funciones_especiales.es_primo(7))\n",
    "\n",
    "# Valor modal\n",
    "lista_valores = [1, 2, 2, 3, 4, 5, 5, 5]\n",
    "print(funciones_especiales.valor_modal(lista_valores))\n",
    "\n",
    "# Conversión de grados\n",
    "print(funciones_especiales.convertir_grados(25, \"C\", \"F\"))\n",
    "\n",
    "# Factorial\n",
    "print(funciones_especiales.calcular_factorial(5))"
   ]
  },
  {
   "attachments": {},
   "cell_type": "markdown",
   "metadata": {},
   "source": [
    "6) Probar las funciones incorporadas en la clase del punto 5"
   ]
  },
  {
   "cell_type": "code",
   "execution_count": null,
   "metadata": {},
   "outputs": [],
   "source": []
  },
  {
   "attachments": {},
   "cell_type": "markdown",
   "metadata": {},
   "source": [
    "7) Es necesario que la clase creada en el punto 5 contenga una lista, sobre la cual se apliquen las funciones incorporadas"
   ]
  },
  {
   "cell_type": "code",
   "execution_count": null,
   "metadata": {},
   "outputs": [],
   "source": []
  },
  {
   "attachments": {},
   "cell_type": "markdown",
   "metadata": {},
   "source": [
    "8) Crear un archivo .py aparte y ubicar allí la clase generada en el punto anterior. Luego realizar la importación del módulo y probar alguna de sus funciones"
   ]
  },
  {
   "cell_type": "code",
   "execution_count": null,
   "metadata": {},
   "outputs": [],
   "source": []
  }
 ],
 "metadata": {
  "interpreter": {
   "hash": "c85384e4cb51c8b72350f3a8712cc8351fdc3955e32a27f9b60c6242ab125f01"
  },
  "kernelspec": {
   "display_name": "Python 3 (ipykernel)",
   "language": "python",
   "name": "python3"
  },
  "language_info": {
   "codemirror_mode": {
    "name": "ipython",
    "version": 3
   },
   "file_extension": ".py",
   "mimetype": "text/x-python",
   "name": "python",
   "nbconvert_exporter": "python",
   "pygments_lexer": "ipython3",
   "version": "3.10.7"
  }
 },
 "nbformat": 4,
 "nbformat_minor": 4
}
