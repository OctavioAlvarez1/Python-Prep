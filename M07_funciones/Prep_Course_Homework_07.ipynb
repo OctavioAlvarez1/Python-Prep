{
 "cells": [
  {
   "attachments": {},
   "cell_type": "markdown",
   "metadata": {},
   "source": [
    "## Funciones"
   ]
  },
  {
   "attachments": {},
   "cell_type": "markdown",
   "metadata": {},
   "source": [
    "1) Crear una función que reciba un número como parámetro y devuelva True si es primo y False si no lo es"
   ]
  },
  {
   "cell_type": "code",
   "execution_count": 1,
   "metadata": {},
   "outputs": [
    {
     "name": "stdout",
     "output_type": "stream",
     "text": [
      "True\n"
     ]
    }
   ],
   "source": [
    "def numero_primo(num):\n",
    "    for i in range(2, int(num**0.5) + 1):\n",
    "        if num % i == 0:\n",
    "            return False  \n",
    "    return True  \n",
    "\n",
    "print(numero_primo(3))"
   ]
  },
  {
   "attachments": {},
   "cell_type": "markdown",
   "metadata": {},
   "source": [
    "2) Utilizando la función del punto 1, realizar otra función que reciba de parámetro una lista de números y devuelva sólo aquellos que son primos en otra lista"
   ]
  },
  {
   "cell_type": "code",
   "execution_count": 2,
   "metadata": {},
   "outputs": [
    {
     "name": "stdout",
     "output_type": "stream",
     "text": [
      "Los nuevos numeros primos son [2, 3, 5, 7]\n"
     ]
    }
   ],
   "source": [
    "def nuevos_primos(lista):\n",
    "    primos = [numero for numero in lista if numero_primo(numero)]\n",
    "    return primos\n",
    "\n",
    "numeros = [2,3,4,5,6,7,8]\n",
    "primos_resultado = nuevos_primos(numeros)\n",
    "print(f\"Los nuevos numeros primos son {primos_resultado}\")"
   ]
  },
  {
   "attachments": {},
   "cell_type": "markdown",
   "metadata": {},
   "source": [
    "3) Crear una función que al recibir una lista de números, devuelva el que más se repite y cuántas veces lo hace. Si hay más de un \"más repetido\", que devuelva cualquiera"
   ]
  },
  {
   "cell_type": "code",
   "execution_count": 3,
   "metadata": {},
   "outputs": [
    {
     "name": "stdout",
     "output_type": "stream",
     "text": [
      "Los números que más se repiten son: [3], 4 veces\n"
     ]
    }
   ],
   "source": [
    "lis = [1, 2, 3, 4, 5, 6, 5, 3, 3, 3, 8]\n",
    "repetido = {}\n",
    "cantidad_repetido = 0\n",
    "\n",
    "def numeros_repetidos(lista):\n",
    "    global cantidad_repetido  \n",
    "\n",
    "    for i in lis:\n",
    "        if i not in repetido:\n",
    "            repetido[i] = 1\n",
    "        else:\n",
    "            repetido[i] += 1\n",
    "            cantidad_repetido = max(cantidad_repetido, repetido[i])\n",
    "\n",
    "    numeros_mas_repetidos = [numero for numero, repeticiones in repetido.items() if repeticiones == cantidad_repetido]\n",
    "\n",
    "    return f\"Los números que más se repiten son: {numeros_mas_repetidos}, {cantidad_repetido} veces\"\n",
    "\n",
    "resultado = numeros_repetidos(lis)\n",
    "print(resultado)\n"
   ]
  },
  {
   "attachments": {},
   "cell_type": "markdown",
   "metadata": {},
   "source": [
    "4) Crear una función que convierta entre grados Celsius, Farenheit y Kelvin<br>\n",
    "Fórmula 1\t: (°C × 9/5) + 32 = °F<br>\n",
    "Fórmula 2\t: °C + 273.15 = °K<br>\n",
    "Debe recibir 3 parámetros: el valor, la medida de orígen y la medida de destino\n"
   ]
  },
  {
   "cell_type": "code",
   "execution_count": 4,
   "metadata": {},
   "outputs": [],
   "source": [
    "def convertir_grados(valor, medida_origen, medida_destino):\n",
    "    if medida_origen == \"C\" and medida_destino == \"F\":\n",
    "        resultado = (valor * 9/5) + 32\n",
    "    elif medida_origen == \"C\" and medida_destino == \"K\":\n",
    "        resultado = valor + 273.15\n",
    "    elif medida_origen == \"F\" and medida_destino == \"C\":\n",
    "        resultado = (valor - 32) * 5/9\n",
    "    elif medida_origen == \"F\" and medida_destino == \"K\":\n",
    "        resultado = (valor - 32) * 5/9 + 273.15\n",
    "    elif medida_origen == \"K\" and medida_destino == \"C\":\n",
    "        resultado = valor - 273.15\n",
    "    elif medida_origen == \"K\" and medida_destino == \"F\":\n",
    "        resultado = (valor - 273.15) * 9/5 + 32\n",
    "    else:\n",
    "        resultado = valor  \n",
    "\n",
    "    return resultado\n",
    "\n",
    "valor_a_convertir = float(input(\"Ingresa el valor a convertir: \"))\n",
    "medida_origen = input(\"Ingresa la medida de origen (C, F o K): \").upper()\n",
    "medida_destino = input(\"Ingresa la medida de destino (C, F o K): \").upper()\n",
    "\n",
    "resultado_conversion = convertir_grados(valor_a_convertir, medida_origen, medida_destino)\n",
    "print(f\"{valor_a_convertir} grados {medida_origen} son equivalentes a {resultado_conversion} grados {medida_destino}\")\n",
    "\n",
    "    "
   ]
  },
  {
   "attachments": {},
   "cell_type": "markdown",
   "metadata": {},
   "source": [
    "5) Iterando una lista con los tres valores posibles de temperatura que recibe la función del punto 5, hacer un print para cada combinación de los mismos:"
   ]
  },
  {
   "cell_type": "code",
   "execution_count": 1,
   "metadata": {},
   "outputs": [],
   "source": [
    "for medida_origen in [\"C\", \"F\", \"K\"]:\n",
    "    for medida_destino in [\"C\", \"F\", \"K\"]:\n",
    "        if medida_origen != medida_destino:  \n",
    "            if medida_origen in [\"C\", \"K\"]:\n",
    "                valor_a_convertir = float(input(f\"Ingrese el valor en grados {medida_origen}: \")) \n",
    "            else:\n",
    "                valor_a_convertir = float(input(f\"Ingrese el valor en grados {medida_origen}: \"))  \n",
    "            resultado_conversion = convertir_grados(valor_a_convertir, medida_origen, medida_destino)\n",
    "            print(f\"{valor_a_convertir} grados {medida_origen} son equivalentes a {resultado_conversion} grados {medida_destino}\")"
   ]
  },
  {
   "attachments": {},
   "cell_type": "markdown",
   "metadata": {},
   "source": [
    "6) Armar una función que devuelva el factorial de un número. Tener en cuenta que el usuario puede equivocarse y enviar de parámetro un número no entero o negativo"
   ]
  },
  {
   "cell_type": "code",
   "execution_count": 4,
   "metadata": {},
   "outputs": [
    {
     "name": "stdout",
     "output_type": "stream",
     "text": [
      "40320\n"
     ]
    }
   ],
   "source": [
    "def buscar_factorial(num):\n",
    "    if isinstance(num, int) and num >= 0:\n",
    "        resultado = 1\n",
    "        for i in range(1, num + 1):\n",
    "            resultado *= i\n",
    "        return resultado\n",
    "    else:\n",
    "        print(\"Ingrese un número entero no negativo.\")\n",
    "\n",
    "numero_ingresado = int(input(\"Ingrese un número para calcular su factorial: \"))\n",
    "resultado_factorial = buscar_factorial(numero_ingresado)\n",
    "\n",
    "print(resultado_factorial)"
   ]
  }
 ],
 "metadata": {
  "interpreter": {
   "hash": "c85384e4cb51c8b72350f3a8712cc8351fdc3955e32a27f9b60c6242ab125f01"
  },
  "kernelspec": {
   "display_name": "Python 3 (ipykernel)",
   "language": "python",
   "name": "python3"
  },
  "language_info": {
   "codemirror_mode": {
    "name": "ipython",
    "version": 3
   },
   "file_extension": ".py",
   "mimetype": "text/x-python",
   "name": "python",
   "nbconvert_exporter": "python",
   "pygments_lexer": "ipython3",
   "version": "3.10.7"
  }
 },
 "nbformat": 4,
 "nbformat_minor": 4
}
